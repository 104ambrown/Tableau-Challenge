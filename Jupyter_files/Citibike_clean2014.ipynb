{
 "cells": [
  {
   "cell_type": "code",
   "execution_count": 1,
   "id": "d28c7dcd",
   "metadata": {},
   "outputs": [],
   "source": [
    "# ! pip install --upgrade terality"
   ]
  },
  {
   "cell_type": "code",
   "execution_count": 2,
   "id": "9cf1271a",
   "metadata": {},
   "outputs": [
    {
     "name": "stderr",
     "output_type": "stream",
     "text": [
      "WARNING:terality:A Terality configuration file is already present at C:\\Users\\abrow\\.terality\\config.json.\n",
      "WARNING:terality:A Terality credentials file is already present at C:\\Users\\abrow\\.terality\\credentials.json.\n",
      "INFO:terality:Terality account successfully configured on this system.\n"
     ]
    }
   ],
   "source": [
    "#importing dependencies\n",
    "import glob\n",
    "import pandas as pd\n",
    "import terality as te\n",
    "te.configure(\n",
    "    email=\"104ambrown@gmail.com\",\n",
    "    api_key=\"tla_3CNuDbzaRrEKRL3nbSlCurnBqwas23XOUMA3HVNo9a55URJU34UWrZP3m38w0uwlZJ\"\n",
    ")"
   ]
  },
  {
   "cell_type": "code",
   "execution_count": 3,
   "id": "57492324",
   "metadata": {},
   "outputs": [
    {
     "name": "stderr",
     "output_type": "stream",
     "text": [
      "C:/Users/abrow/Desktop/EMERSON_BOOTCAMP/BOOTCAMP_AMB/Homeworks/HW13_01-29-22_Tableau_Homework/CitiBike_Data/2014\\2014-0\n",
      "INFO:terality:The result of te.read_csv was retrieved from cache [docs: https://docs.terality.com/getting-terality/user-guide/caching].\n",
      "C:/Users/abrow/Desktop/EMERSON_BOOTCAMP/BOOTCAMP_AMB/Homeworks/HW13_01-29-22_Tableau_Homework/CitiBike_Data/2014\\2014-0\n",
      "INFO:terality:The result of te.read_csv was retrieved from cache [docs: https://docs.terality.com/getting-terality/user-guide/caching].\n",
      "C:/Users/abrow/Desktop/EMERSON_BOOTCAMP/BOOTCAMP_AMB/Homeworks/HW13_01-29-22_Tableau_Homework/CitiBike_Data/2014\\2014-0\n",
      "INFO:terality:The result of te.read_csv was retrieved from cache [docs: https://docs.terality.com/getting-terality/user-guide/caching].\n"
     ]
    }
   ],
   "source": [
    "#establishing a base path to read in all csvs\n",
    "files = glob.glob('C:/Users/abrow/Desktop/EMERSON_BOOTCAMP/BOOTCAMP_AMB/Homeworks/HW13_01-29-22_Tableau_Homework/CitiBike_Data/2014/*.csv')\n",
    "\n",
    "#creating an empty list to store the dataframes\n",
    "frame = []\n",
    "\n",
    "#writing a simple loops of what to do with the csvs\n",
    "for file in files:\n",
    "    frame.append(te.read_csv(file))\n",
    "\n",
    "#Concatenate dataframes into 1\n",
    "citibike2014_df = te.concat(frame)"
   ]
  },
  {
   "cell_type": "code",
   "execution_count": 4,
   "id": "6b83ae1c",
   "metadata": {},
   "outputs": [
    {
     "data": {
      "text/html": [
       "<div>\n",
       "<style scoped>\n",
       "    .dataframe tbody tr th:only-of-type {\n",
       "        vertical-align: middle;\n",
       "    }\n",
       "\n",
       "    .dataframe tbody tr th {\n",
       "        vertical-align: top;\n",
       "    }\n",
       "\n",
       "    .dataframe thead th {\n",
       "        text-align: right;\n",
       "    }\n",
       "</style>\n",
       "<table border=\"1\" class=\"dataframe\">\n",
       "  <thead>\n",
       "    <tr style=\"text-align: right;\">\n",
       "      <th></th>\n",
       "      <th>tripduration</th>\n",
       "      <th>starttime</th>\n",
       "      <th>stoptime</th>\n",
       "      <th>start station id</th>\n",
       "      <th>start station name</th>\n",
       "      <th>start station latitude</th>\n",
       "      <th>start station longitude</th>\n",
       "      <th>end station id</th>\n",
       "      <th>end station name</th>\n",
       "      <th>end station latitude</th>\n",
       "      <th>end station longitude</th>\n",
       "      <th>bikeid</th>\n",
       "      <th>usertype</th>\n",
       "      <th>birth year</th>\n",
       "      <th>gender</th>\n",
       "    </tr>\n",
       "  </thead>\n",
       "  <tbody>\n",
       "    <tr>\n",
       "      <th>0</th>\n",
       "      <td>520</td>\n",
       "      <td>2014-06-01 00:00:02</td>\n",
       "      <td>2014-06-01 00:08:42</td>\n",
       "      <td>358</td>\n",
       "      <td>Christopher St &amp; Greenwich St</td>\n",
       "      <td>40.732916</td>\n",
       "      <td>-74.007114</td>\n",
       "      <td>426</td>\n",
       "      <td>West St &amp; Chambers St</td>\n",
       "      <td>40.717548</td>\n",
       "      <td>-74.013221</td>\n",
       "      <td>18840</td>\n",
       "      <td>Subscriber</td>\n",
       "      <td>1979</td>\n",
       "      <td>1</td>\n",
       "    </tr>\n",
       "    <tr>\n",
       "      <th>1</th>\n",
       "      <td>520</td>\n",
       "      <td>2014-06-01 00:00:27</td>\n",
       "      <td>2014-06-01 00:09:07</td>\n",
       "      <td>335</td>\n",
       "      <td>Washington Pl &amp; Broadway</td>\n",
       "      <td>40.729039</td>\n",
       "      <td>-73.994046</td>\n",
       "      <td>265</td>\n",
       "      <td>Stanton St &amp; Chrystie St</td>\n",
       "      <td>40.722293</td>\n",
       "      <td>-73.991475</td>\n",
       "      <td>17442</td>\n",
       "      <td>Customer</td>\n",
       "      <td>\\N</td>\n",
       "      <td>0</td>\n",
       "    </tr>\n",
       "    <tr>\n",
       "      <th>2</th>\n",
       "      <td>414</td>\n",
       "      <td>2014-06-01 00:00:32</td>\n",
       "      <td>2014-06-01 00:07:26</td>\n",
       "      <td>439</td>\n",
       "      <td>E 4 St &amp; 2 Ave</td>\n",
       "      <td>40.726281</td>\n",
       "      <td>-73.989780</td>\n",
       "      <td>368</td>\n",
       "      <td>Carmine St &amp; 6 Ave</td>\n",
       "      <td>40.730386</td>\n",
       "      <td>-74.002150</td>\n",
       "      <td>16447</td>\n",
       "      <td>Subscriber</td>\n",
       "      <td>1980</td>\n",
       "      <td>1</td>\n",
       "    </tr>\n",
       "    <tr>\n",
       "      <th>3</th>\n",
       "      <td>310</td>\n",
       "      <td>2014-06-01 00:00:34</td>\n",
       "      <td>2014-06-01 00:05:44</td>\n",
       "      <td>463</td>\n",
       "      <td>9 Ave &amp; W 16 St</td>\n",
       "      <td>40.742065</td>\n",
       "      <td>-74.004432</td>\n",
       "      <td>380</td>\n",
       "      <td>W 4 St &amp; 7 Ave S</td>\n",
       "      <td>40.734011</td>\n",
       "      <td>-74.002939</td>\n",
       "      <td>18218</td>\n",
       "      <td>Subscriber</td>\n",
       "      <td>1984</td>\n",
       "      <td>1</td>\n",
       "    </tr>\n",
       "    <tr>\n",
       "      <th>4</th>\n",
       "      <td>457</td>\n",
       "      <td>2014-06-01 00:00:35</td>\n",
       "      <td>2014-06-01 00:08:12</td>\n",
       "      <td>352</td>\n",
       "      <td>W 56 St &amp; 6 Ave</td>\n",
       "      <td>40.763406</td>\n",
       "      <td>-73.977225</td>\n",
       "      <td>305</td>\n",
       "      <td>E 58 St &amp; 3 Ave</td>\n",
       "      <td>40.760958</td>\n",
       "      <td>-73.967245</td>\n",
       "      <td>18115</td>\n",
       "      <td>Subscriber</td>\n",
       "      <td>1969</td>\n",
       "      <td>1</td>\n",
       "    </tr>\n",
       "  </tbody>\n",
       "</table>\n",
       "</div>"
      ],
      "text/plain": [
       "   tripduration            starttime             stoptime  start station id  \\\n",
       "0           520  2014-06-01 00:00:02  2014-06-01 00:08:42               358   \n",
       "1           520  2014-06-01 00:00:27  2014-06-01 00:09:07               335   \n",
       "2           414  2014-06-01 00:00:32  2014-06-01 00:07:26               439   \n",
       "3           310  2014-06-01 00:00:34  2014-06-01 00:05:44               463   \n",
       "4           457  2014-06-01 00:00:35  2014-06-01 00:08:12               352   \n",
       "\n",
       "              start station name  start station latitude  \\\n",
       "0  Christopher St & Greenwich St               40.732916   \n",
       "1       Washington Pl & Broadway               40.729039   \n",
       "2                 E 4 St & 2 Ave               40.726281   \n",
       "3                9 Ave & W 16 St               40.742065   \n",
       "4                W 56 St & 6 Ave               40.763406   \n",
       "\n",
       "   start station longitude  end station id          end station name  \\\n",
       "0               -74.007114             426     West St & Chambers St   \n",
       "1               -73.994046             265  Stanton St & Chrystie St   \n",
       "2               -73.989780             368        Carmine St & 6 Ave   \n",
       "3               -74.004432             380          W 4 St & 7 Ave S   \n",
       "4               -73.977225             305           E 58 St & 3 Ave   \n",
       "\n",
       "   end station latitude  end station longitude  bikeid    usertype birth year  \\\n",
       "0             40.717548             -74.013221   18840  Subscriber       1979   \n",
       "1             40.722293             -73.991475   17442    Customer         \\N   \n",
       "2             40.730386             -74.002150   16447  Subscriber       1980   \n",
       "3             40.734011             -74.002939   18218  Subscriber       1984   \n",
       "4             40.760958             -73.967245   18115  Subscriber       1969   \n",
       "\n",
       "   gender  \n",
       "0       1  \n",
       "1       0  \n",
       "2       1  \n",
       "3       1  \n",
       "4       1  "
      ]
     },
     "execution_count": 4,
     "metadata": {},
     "output_type": "execute_result"
    }
   ],
   "source": [
    "citibike2014_df.head()"
   ]
  },
  {
   "cell_type": "code",
   "execution_count": 5,
   "id": "b16ade67",
   "metadata": {},
   "outputs": [],
   "source": [
    "#Converting starttime and endtime to datetime to prepare for splitting and inserting into new columns\n",
    "citibike2014_df['Start Date'] = te.to_datetime(citibike2014_df['starttime']).dt.date\n",
    "citibike2014_df['Start Time'] = te.to_datetime(citibike2014_df['starttime']).dt.time\n",
    "citibike2014_df['Stop Date'] = te.to_datetime(citibike2014_df['stoptime']).dt.date\n",
    "citibike2014_df['Stop Time'] = te.to_datetime(citibike2014_df['stoptime']).dt.time"
   ]
  },
  {
   "cell_type": "code",
   "execution_count": null,
   "id": "887f3f36",
   "metadata": {
    "scrolled": true
   },
   "outputs": [],
   "source": [
    "# Writing a function to convert tripduration from seconds to hours, minutes, seconds in a new column\n",
    "def format_duration(row):\n",
    "    seconds = row.tripduration\n",
    "    minutes, seconds = divmod(seconds, 60)\n",
    "    hours, minutes = divmod(minutes, 60)\n",
    "    return '{:02d} : {:02d} : {:02d}'.format(hours, minutes, seconds)\n",
    "\n",
    "# applying the function to the dataframe\n",
    "citibike2014_df['Trip Duration'] = citibike2014_df.apply(format_duration, axis=1)\n",
    "citibike2014_df.head()"
   ]
  },
  {
   "cell_type": "code",
   "execution_count": 9,
   "id": "360e7dfa",
   "metadata": {},
   "outputs": [
    {
     "name": "stdout",
     "output_type": "stream",
     "text": [
      "tripduration               2869212\n",
      "starttime                  2869212\n",
      "stoptime                   2869212\n",
      "start station id           2869212\n",
      "start station name         2869212\n",
      "start station latitude     2869212\n",
      "start station longitude    2869212\n",
      "end station id             2869212\n",
      "end station name           2869212\n",
      "end station latitude       2869212\n",
      "end station longitude      2869212\n",
      "bikeid                     2869212\n",
      "usertype                   2869212\n",
      "birth year                 2869212\n",
      "gender                     2869212\n",
      "Start Date                 2869212\n",
      "Start Time                 2869212\n",
      "Stop Date                  2869212\n",
      "Stop Time                  2869212\n",
      "dtype: int64\n"
     ]
    }
   ],
   "source": [
    "# Getting length of dataframe\n",
    "total_rows = citibike2014_df.count()\n",
    "print(total_rows +1)"
   ]
  },
  {
   "cell_type": "code",
   "execution_count": 10,
   "id": "1a4dee5e",
   "metadata": {},
   "outputs": [],
   "source": [
    "citibike2014_df.to_csv_folder(path_or_buf=\"C:/Users/abrow/Desktop/EMERSON_BOOTCAMP/BOOTCAMP_AMB/Homeworks/HW13_01-29-22_Tableau_Homework/Clean_data/citiBike2014_clean_*.csv\",  num_files=3, index=False, header=True, encoding=\"utf-8\")"
   ]
  },
  {
   "cell_type": "code",
   "execution_count": null,
   "id": "805f93e0",
   "metadata": {},
   "outputs": [],
   "source": []
  }
 ],
 "metadata": {
  "kernelspec": {
   "display_name": "Python 3",
   "language": "python",
   "name": "python3"
  },
  "language_info": {
   "codemirror_mode": {
    "name": "ipython",
    "version": 3
   },
   "file_extension": ".py",
   "mimetype": "text/x-python",
   "name": "python",
   "nbconvert_exporter": "python",
   "pygments_lexer": "ipython3",
   "version": "3.8.8"
  }
 },
 "nbformat": 4,
 "nbformat_minor": 5
}
